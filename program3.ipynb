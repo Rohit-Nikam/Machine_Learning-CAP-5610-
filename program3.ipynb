{
  "nbformat": 4,
  "nbformat_minor": 0,
  "metadata": {
    "colab": {
      "name": "program3.ipynb",
      "version": "0.3.2",
      "provenance": [],
      "include_colab_link": true
    },
    "kernelspec": {
      "name": "python3",
      "display_name": "Python 3"
    },
    "accelerator": "GPU"
  },
  "cells": [
    {
      "cell_type": "markdown",
      "metadata": {
        "id": "view-in-github",
        "colab_type": "text"
      },
      "source": [
        "<a href=\"https://colab.research.google.com/github/Rohit-Nikam/Machine_Learning-CAP-5610-/blob/master/program3.ipynb\" target=\"_parent\"><img src=\"https://colab.research.google.com/assets/colab-badge.svg\" alt=\"Open In Colab\"/></a>"
      ]
    },
    {
      "metadata": {
        "id": "Tt9wvmPq9obR",
        "colab_type": "code",
        "colab": {
          "base_uri": "https://localhost:8080/",
          "height": 35
        },
        "outputId": "eae3a4f7-0cc7-43e3-d54e-f1a051c8c92b"
      },
      "cell_type": "code",
      "source": [
        "import numpy as np\n",
        "import pandas as pd\n",
        "import matplotlib\n",
        "import matplotlib.pyplot as plt\n",
        "import keras\n",
        "from keras.datasets import mnist\n",
        "from sklearn.model_selection import StratifiedShuffleSplit"
      ],
      "execution_count": 1,
      "outputs": [
        {
          "output_type": "stream",
          "text": [
            "Using TensorFlow backend.\n"
          ],
          "name": "stderr"
        }
      ]
    },
    {
      "metadata": {
        "id": "CO2HJ6YQ943B",
        "colab_type": "code",
        "colab": {}
      },
      "cell_type": "code",
      "source": [
        "(X_train, y_train), (X_test, y_test) = mnist.load_data()"
      ],
      "execution_count": 0,
      "outputs": []
    },
    {
      "metadata": {
        "id": "XJmjHW0J9452",
        "colab_type": "code",
        "colab": {}
      },
      "cell_type": "code",
      "source": [
        "X_train = (X_train.reshape(X_train.shape[0],X_train.shape[1]*X_train.shape[2]))\n",
        "X_test = (X_test.reshape(X_test.shape[0],X_test.shape[1]*X_test.shape[2]))"
      ],
      "execution_count": 0,
      "outputs": []
    },
    {
      "metadata": {
        "id": "eb2tWeJ0948o",
        "colab_type": "code",
        "colab": {}
      },
      "cell_type": "code",
      "source": [
        "test_target = y_test\n",
        "y_train = (keras.utils.to_categorical(y_train,10))\n",
        "y_test = (keras.utils.to_categorical(y_test,10))"
      ],
      "execution_count": 0,
      "outputs": []
    },
    {
      "metadata": {
        "id": "fkPi13gS94_U",
        "colab_type": "code",
        "colab": {
          "base_uri": "https://localhost:8080/",
          "height": 87
        },
        "outputId": "c8ee0bfc-cca3-49f0-8f8e-e3e3ad9631d9"
      },
      "cell_type": "code",
      "source": [
        "## Shape of the data set\n",
        "print('Shape of training set predictors :',X_train.shape)\n",
        "print('Shape of training set target :',y_train.shape)\n",
        "print('Shape of testing set predictors :',X_test.shape)\n",
        "print('Shape of testing set target :',y_test.shape)"
      ],
      "execution_count": 5,
      "outputs": [
        {
          "output_type": "stream",
          "text": [
            "Shape of training set predictors : (60000, 784)\n",
            "Shape of training set target : (60000, 10)\n",
            "Shape of testing set predictors : (10000, 784)\n",
            "Shape of testing set target : (10000, 10)\n"
          ],
          "name": "stdout"
        }
      ]
    },
    {
      "metadata": {
        "id": "R4MotxAc95Bu",
        "colab_type": "code",
        "colab": {}
      },
      "cell_type": "code",
      "source": [
        "## Normalizing the data set\n",
        "X_train = X_train.astype('float32')\n",
        "X_test = X_test.astype('float32')\n",
        "X_train /= 255\n",
        "X_test /= 255"
      ],
      "execution_count": 0,
      "outputs": []
    },
    {
      "metadata": {
        "id": "xTaG4dqa95FF",
        "colab_type": "code",
        "colab": {}
      },
      "cell_type": "code",
      "source": [
        "### theta and bias initilization\n",
        "theta = np.random.randn(10,784)*0.01\n",
        "bias = np.random.randn(10,1)"
      ],
      "execution_count": 0,
      "outputs": []
    },
    {
      "metadata": {
        "id": "VcNtW34B95Kj",
        "colab_type": "code",
        "colab": {
          "base_uri": "https://localhost:8080/",
          "height": 35
        },
        "outputId": "823c7244-1ea3-40ae-c2d8-e46e320598ce"
      },
      "cell_type": "code",
      "source": [
        "epochs = 50\n",
        "m = len(X_train)\n",
        "learning_rate = 0.001\n",
        "batch_size = 200\n",
        "result_loss = []\n",
        "\n",
        "\n",
        "## here we calculate loss with respective to the target value when a softmax output is obtained \n",
        "def soft_loss(yi,soft_ouput):\n",
        "    return np.sum(np.multiply(np.transpose(yi),np.log(soft_ouput))+np.multiply(np.transpose(yi),np.log(soft_ouput)),axis=1,keepdims=True)/len(yi)\n",
        "  \n",
        "## Function to calculate softmax i.e probabilities of each target value with respective to other target values.  \n",
        "def softmax(t):\n",
        "    summation = np.sum(np.exp(t),axis = 0, keepdims = True)\n",
        "    individual_prob = np.exp(t)/summation\n",
        "    return individual_prob\n",
        "\n",
        "## Here we calculate loss of the model in each epoch\n",
        "def loss_function(theta,bias,xi,yi):   \n",
        "    z = np.dot(theta,np.transpose(xi)) + bias\n",
        "    soft_output = softmax(z)\n",
        "    penalty = soft_output - np.transpose(yi)\n",
        "    diff_loss = np.dot(penalty,xi)     \n",
        "    diff_bias = np.sum(penalty)\n",
        "    loss_training = soft_loss(yi,soft_output)\n",
        "    return loss_training,diff_loss,diff_bias         \n",
        "    \n",
        "    \n",
        "for epoch in range(epochs):\n",
        "    shuffled_indices = np.random.permutation(m)       \n",
        "    X_train = X_train[shuffled_indices]\n",
        "    y_train = y_train[shuffled_indices]\n",
        "    loss_list = []\n",
        "    for i in range(0,m,batch_size):\n",
        "        random_index = np.random.randint(m-(batch_size+2))\n",
        "        xi = X_train[random_index:random_index+batch_size]\n",
        "        yi = y_train[random_index:random_index+batch_size]\n",
        "        loss_training,diff_loss,diff_bias = loss_function(theta,bias,xi,yi)\n",
        "        theta = theta - learning_rate * diff_loss\n",
        "        bias = bias - learning_rate * diff_bias\n",
        "        loss_list.append(loss_training)\n",
        "    result_loss.append(np.array((loss_list)).mean())\n",
        "theta_min = theta \n",
        "bias_min = bias\n",
        "print('success')"
      ],
      "execution_count": 8,
      "outputs": [
        {
          "output_type": "stream",
          "text": [
            "success\n"
          ],
          "name": "stdout"
        }
      ]
    },
    {
      "metadata": {
        "id": "S1enboUh95MX",
        "colab_type": "code",
        "colab": {}
      },
      "cell_type": "code",
      "source": [
        "### testing our theta optimum on test data\n",
        "z = np.dot(theta_min,np.transpose(X_test)) + bias_min\n",
        "sigma = softmax(z)\n",
        "test_output = np.transpose(sigma)\n"
      ],
      "execution_count": 0,
      "outputs": []
    },
    {
      "metadata": {
        "id": "BiAWsWIg9riv",
        "colab_type": "text"
      },
      "cell_type": "markdown",
      "source": [
        "# **The accuracy of the model when softmax is uses is given below:**"
      ]
    },
    {
      "metadata": {
        "id": "7qQauXRX95Pt",
        "colab_type": "code",
        "colab": {
          "base_uri": "https://localhost:8080/",
          "height": 35
        },
        "outputId": "9ebe8f86-88bb-4836-aa86-b154bc858e19"
      },
      "cell_type": "code",
      "source": [
        "reverse_encoding = [np.argmax(test_output[i]) for i in range(len(test_output))]\n",
        "checking_accuracy = [1 for i in range(len(y_test)) if reverse_encoding[i] == test_target[i]]\n",
        "acc = np.sum(checking_accuracy)/100\n",
        "print(\"accuracy:\",acc)"
      ],
      "execution_count": 10,
      "outputs": [
        {
          "output_type": "stream",
          "text": [
            "accuracy: 92.45\n"
          ],
          "name": "stdout"
        }
      ]
    },
    {
      "metadata": {
        "id": "7alfu89q9hNI",
        "colab_type": "text"
      },
      "cell_type": "markdown",
      "source": [
        "# Following graph shows as the epoch increases the loss decreases"
      ]
    },
    {
      "metadata": {
        "id": "gfQjSfEi-K-Y",
        "colab_type": "code",
        "colab": {
          "base_uri": "https://localhost:8080/",
          "height": 361
        },
        "outputId": "0a727c7c-4873-4cf7-c20b-f396470cd2d7"
      },
      "cell_type": "code",
      "source": [
        "accuracy_plot = plt.plot(range(1,epochs +1),result_loss)\n",
        "plt.xlabel('Epoch-->')\n",
        "plt.ylabel('Loss -->')\n",
        "plt.show(accuracy_plot)"
      ],
      "execution_count": 11,
      "outputs": [
        {
          "output_type": "display_data",
          "data": {
            "image/png": "[encoded data removed]",
            "text/plain": [
              "<Figure size 576x396 with 1 Axes>"
            ]
          },
          "metadata": {
            "tags": []
          }
        }
      ]
    }
  ]
}