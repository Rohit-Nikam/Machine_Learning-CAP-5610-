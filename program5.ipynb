{
  "nbformat": 4,
  "nbformat_minor": 0,
  "metadata": {
    "colab": {
      "name": "program5.ipynb",
      "version": "0.3.2",
      "provenance": [],
      "include_colab_link": true
    },
    "kernelspec": {
      "name": "python3",
      "display_name": "Python 3"
    },
    "accelerator": "GPU"
  },
  "cells": [
    {
      "cell_type": "markdown",
      "metadata": {
        "id": "view-in-github",
        "colab_type": "text"
      },
      "source": [
        "<a href=\"https://colab.research.google.com/github/Rohit-Nikam/Machine_Learning-CAP-5610-/blob/master/program5.ipynb\" target=\"_parent\"><img src=\"https://colab.research.google.com/assets/colab-badge.svg\" alt=\"Open In Colab\"/></a>"
      ]
    },
    {
      "metadata": {
        "id": "v_QXXKp8KKx4",
        "colab_type": "code",
        "outputId": "ce6a6ae8-b784-41f3-f012-99634b21c5d8",
        "colab": {
          "base_uri": "https://localhost:8080/",
          "height": 35
        }
      },
      "cell_type": "code",
      "source": [
        "import numpy as np\n",
        "import keras \n",
        "from keras.datasets import mnist\n",
        "import matplotlib.pyplot as plt\n",
        "learning_rate = 0.05\n",
        "epochs = 50\n",
        "batch_size = 500"
      ],
      "execution_count": 1,
      "outputs": [
        {
          "output_type": "stream",
          "text": [
            "Using TensorFlow backend.\n"
          ],
          "name": "stderr"
        }
      ]
    },
    {
      "metadata": {
        "id": "5T6G_c1zM0aw",
        "colab_type": "code",
        "colab": {}
      },
      "cell_type": "code",
      "source": [
        "def feature_addition():\n",
        "  (x_train,Y_train), (x_test,Y_test) = mnist.load_data()\n",
        "  print('The shape of x_train :',x_train.shape)\n",
        "  print('The shape of Y_train :',Y_train.shape)\n",
        "  print('The shape of x_test :',x_test.shape)\n",
        "  print('The shape of Y_test :',Y_test.shape)\n",
        "  \n",
        "  x_train = x_train.astype('float32')\n",
        "  x_test = x_test.astype('float32')\n",
        "  x_train /= 255\n",
        "  x_test /= 255\n",
        "  \n",
        "  temp_train = [[0]]*x_train.shape[0]\n",
        "  temp_test = [[0]]*x_test.shape[0]\n",
        "  \n",
        "  new_features_train = []\n",
        "  new_features_test = []\n",
        "  \n",
        "  width_train = []\n",
        "  height_train = []\n",
        "  connectivity_train = []\n",
        "  ones_train = []\n",
        "  \n",
        "  width_test = []\n",
        "  height_test = []\n",
        "  connectivity_test = []\n",
        "  ones_test = []\n",
        "  \n",
        "  temporary = 0\n",
        "\n",
        "  for i in range(x_train.shape[0]):\n",
        "  ## here we add a new feature based on region connectivity\n",
        "    if Y_train[i] == (1 or 2 or 3 or 4 or 5 or 7):\n",
        "      temporary = 1\n",
        "    if Y_train[i] == (0 or 6 or 9):\n",
        "      temporary = 2\n",
        "    if Y_train[i] == 8:\n",
        "      temporary = 3 \n",
        "                                \n",
        "    connectivity_train.append(temporary)\n",
        "      \n",
        "  ## here we add a new feature based on height and width\n",
        "    ##height\n",
        "    temp = x_train[i]\n",
        "    height = ((x_train.shape[1] - np.argmax(np.argmax(np.flip(temp,0),0),0)) - np.argmax(np.argmax(temp,0),0))/x_train.shape[1]\n",
        "    height_train.append(height)\n",
        "    ## Width\n",
        "    width =  ((x_train.shape[2] - np.argmax(np.argmax(np.flip(temp,1),1))) - np.argmax(np.argmax(temp,1)))/x_train.shape[0]\n",
        "    width_train.append(width)\n",
        "  \n",
        "  ## new feature. I chose to calculate total number of ones in an  training instance\n",
        "    ones_sum = x_train[i].sum()/(x_train.shape[1]* x_train.shape[2])\n",
        "    ones_train.append(ones_sum)\n",
        "    \n",
        "    temp_train[i] = x_train[i].ravel()\n",
        " \n",
        "  new_features_train.extend((connectivity_train,height_train,width_train,ones_train))\n",
        "  X_train = np.concatenate((np.array(temp_train),np.array(new_features_train).T),axis=1)\n",
        "    \n",
        "    \n",
        "  \n",
        "  for i in range(x_test.shape[0]):\n",
        "    if Y_test[i] == (1 or 2 or 3 or 4 or 5 or 7):\n",
        "      temporary = 1\n",
        "    if Y_test[i] == (0 or 6 or 9):\n",
        "      temporary = 2\n",
        "    if Y_test[i] == 8:\n",
        "      temporary = 3\n",
        "      \n",
        "    connectivity_test.append(temporary)\n",
        "      \n",
        "  ## here we add a new feature based on height and width\n",
        " ##height\n",
        "    temp = x_test[i]\n",
        "    height = ((x_test.shape[1] - np.argmax(np.argmax(np.flip(temp,0),0),0)) - np.argmax(np.argmax(temp,0),0))/x_test.shape[1]\n",
        "    height_test.append(height)\n",
        "    ## Width\n",
        "    width =  ((x_test.shape[2] - np.argmax(np.argmax(np.flip(temp,1),1))) - np.argmax(np.argmax(temp,1)))/x_test.shape[0]\n",
        "    width_test.append(width)\n",
        "  \n",
        "  ## new feature. I chose to calculate total number of ones in an training instance\n",
        "    ones_sum = x_test[i].sum()/(x_test.shape[1]* x_test.shape[2])\n",
        "    ones_test.append(ones_sum)\n",
        "    \n",
        "    temp_test[i] = x_test[i].ravel()\n",
        "  \n",
        "  new_features_test.extend((connectivity_test,height_test,width_test,ones_test))\n",
        "  X_test = np.concatenate((np.array(temp_test),np.array(new_features_test).T),axis=1)\n",
        "\n",
        "  return X_train,Y_train,X_test,Y_test\n",
        "\n",
        "  "
      ],
      "execution_count": 0,
      "outputs": []
    },
    {
      "metadata": {
        "id": "U7YraYpF554t",
        "colab_type": "text"
      },
      "cell_type": "markdown",
      "source": [
        "# **Shape of the training and test data set before addition of four new features.**"
      ]
    },
    {
      "metadata": {
        "id": "6MYNDhYddbwt",
        "colab_type": "code",
        "outputId": "f1b5d852-13a1-4849-d616-fd573c167bf4",
        "colab": {
          "base_uri": "https://localhost:8080/",
          "height": 87
        }
      },
      "cell_type": "code",
      "source": [
        "X_train,y_train,X_test,y_test = feature_addition()\n",
        "\n"
      ],
      "execution_count": 3,
      "outputs": [
        {
          "output_type": "stream",
          "text": [
            "The shape of x_train : (60000, 28, 28)\n",
            "The shape of Y_train : (60000,)\n",
            "The shape of x_test : (10000, 28, 28)\n",
            "The shape of Y_test : (10000,)\n"
          ],
          "name": "stdout"
        }
      ]
    },
    {
      "metadata": {
        "id": "hniq_tuv5mE3",
        "colab_type": "text"
      },
      "cell_type": "markdown",
      "source": [
        "# **Shape of the training and test data set after addition of four new features**"
      ]
    },
    {
      "metadata": {
        "id": "CqFtR2Zr5n2c",
        "colab_type": "code",
        "colab": {
          "base_uri": "https://localhost:8080/",
          "height": 87
        },
        "outputId": "4059f7ce-a511-48c2-ce80-cbea5dd507f4"
      },
      "cell_type": "code",
      "source": [
        "print('The shape of X_train :',X_train.shape)\n",
        "print('The shape of y_train :',y_train.shape)\n",
        "print('The shape of X_test :',X_test.shape)\n",
        "print('The shape of y_test :',y_test.shape)"
      ],
      "execution_count": 4,
      "outputs": [
        {
          "output_type": "stream",
          "text": [
            "The shape of X_train : (60000, 788)\n",
            "The shape of y_train : (60000,)\n",
            "The shape of X_test : (10000, 788)\n",
            "The shape of y_test : (10000,)\n"
          ],
          "name": "stdout"
        }
      ]
    },
    {
      "metadata": {
        "id": "EDIVCXDaNWLo",
        "colab_type": "code",
        "outputId": "2dc56b99-eb65-4238-bbed-08cab1359390",
        "colab": {
          "base_uri": "https://localhost:8080/",
          "height": 52
        }
      },
      "cell_type": "code",
      "source": [
        "## here as we have multi-class labels. we make a class of 10 distinct numbers using one-hot encoder.\n",
        "y_train = keras.utils.to_categorical(y_train, 10)\n",
        "y_test = keras.utils.to_categorical(y_test, 10)\n",
        "print('The shape of y_train :',y_train.shape)\n",
        "print('The shape of y_test :',y_test.shape)"
      ],
      "execution_count": 5,
      "outputs": [
        {
          "output_type": "stream",
          "text": [
            "The shape of y_train : (60000, 10)\n",
            "The shape of y_test : (10000, 10)\n"
          ],
          "name": "stdout"
        }
      ]
    },
    {
      "metadata": {
        "id": "5cQY3wm4jypw",
        "colab_type": "code",
        "colab": {
          "base_uri": "https://localhost:8080/",
          "height": 159
        },
        "outputId": "713f3bd9-1e65-4317-f09e-5f7e11120adf"
      },
      "cell_type": "code",
      "source": [
        "model = keras.models.Sequential()\n",
        "model.add(keras.layers.Dense(units = 10, activation = 'softmax'))\n",
        "sgd = keras.optimizers.SGD(lr=learning_rate)\n",
        "model.compile(loss='categorical_crossentropy', optimizer=sgd, metrics=['accuracy'])\n",
        "print('The shape of X_train :',X_train.shape)\n",
        "print('The shape of y_train :',y_train.shape)\n",
        "print('The shape of X_test :',X_test.shape)\n",
        "print('The shape of y_test :',y_test.shape)"
      ],
      "execution_count": 6,
      "outputs": [
        {
          "output_type": "stream",
          "text": [
            "WARNING:tensorflow:From /usr/local/lib/python3.6/dist-packages/tensorflow/python/framework/op_def_library.py:263: colocate_with (from tensorflow.python.framework.ops) is deprecated and will be removed in a future version.\n",
            "Instructions for updating:\n",
            "Colocations handled automatically by placer.\n",
            "The shape of X_train : (60000, 788)\n",
            "The shape of y_train : (60000, 10)\n",
            "The shape of X_test : (10000, 788)\n",
            "The shape of y_test : (10000, 10)\n"
          ],
          "name": "stdout"
        }
      ]
    },
    {
      "metadata": {
        "id": "RFEgTotWuNGc",
        "colab_type": "code",
        "colab": {
          "base_uri": "https://localhost:8080/",
          "height": 1840
        },
        "outputId": "f7f6309e-2dd9-4167-e1a0-50a1a9d1e567"
      },
      "cell_type": "code",
      "source": [
        "model_fit = model.fit(X_train,y_train, batch_size=batch_size, epochs=epochs, verbose=1,validation_data=(X_test, y_test))"
      ],
      "execution_count": 7,
      "outputs": [
        {
          "output_type": "stream",
          "text": [
            "WARNING:tensorflow:From /usr/local/lib/python3.6/dist-packages/tensorflow/python/ops/math_ops.py:3066: to_int32 (from tensorflow.python.ops.math_ops) is deprecated and will be removed in a future version.\n",
            "Instructions for updating:\n",
            "Use tf.cast instead.\n",
            "Train on 60000 samples, validate on 10000 samples\n",
            "Epoch 1/50\n",
            "60000/60000 [==============================] - 1s 23us/step - loss: 1.1846 - acc: 0.7181 - val_loss: 0.7176 - val_acc: 0.8489\n",
            "Epoch 2/50\n",
            "60000/60000 [==============================] - 1s 11us/step - loss: 0.6403 - acc: 0.8539 - val_loss: 0.5428 - val_acc: 0.8764\n",
            "Epoch 3/50\n",
            "60000/60000 [==============================] - 1s 11us/step - loss: 0.5286 - acc: 0.8714 - val_loss: 0.4730 - val_acc: 0.8853\n",
            "Epoch 4/50\n",
            "60000/60000 [==============================] - 1s 11us/step - loss: 0.4751 - acc: 0.8806 - val_loss: 0.4348 - val_acc: 0.8905\n",
            "Epoch 5/50\n",
            "60000/60000 [==============================] - 1s 11us/step - loss: 0.4423 - acc: 0.8860 - val_loss: 0.4087 - val_acc: 0.8950\n",
            "Epoch 6/50\n",
            "60000/60000 [==============================] - 1s 11us/step - loss: 0.4196 - acc: 0.8905 - val_loss: 0.3900 - val_acc: 0.8989\n",
            "Epoch 7/50\n",
            "60000/60000 [==============================] - 1s 11us/step - loss: 0.4027 - acc: 0.8936 - val_loss: 0.3761 - val_acc: 0.9021\n",
            "Epoch 8/50\n",
            "60000/60000 [==============================] - 1s 11us/step - loss: 0.3893 - acc: 0.8962 - val_loss: 0.3648 - val_acc: 0.9043\n",
            "Epoch 9/50\n",
            "60000/60000 [==============================] - 1s 11us/step - loss: 0.3785 - acc: 0.8985 - val_loss: 0.3559 - val_acc: 0.9051\n",
            "Epoch 10/50\n",
            "60000/60000 [==============================] - 1s 11us/step - loss: 0.3695 - acc: 0.9005 - val_loss: 0.3478 - val_acc: 0.9080\n",
            "Epoch 11/50\n",
            "60000/60000 [==============================] - 1s 11us/step - loss: 0.3618 - acc: 0.9017 - val_loss: 0.3412 - val_acc: 0.9088\n",
            "Epoch 12/50\n",
            "60000/60000 [==============================] - 1s 11us/step - loss: 0.3550 - acc: 0.9037 - val_loss: 0.3360 - val_acc: 0.9103\n",
            "Epoch 13/50\n",
            "60000/60000 [==============================] - 1s 11us/step - loss: 0.3492 - acc: 0.9048 - val_loss: 0.3307 - val_acc: 0.9113\n",
            "Epoch 14/50\n",
            "60000/60000 [==============================] - 1s 11us/step - loss: 0.3440 - acc: 0.9060 - val_loss: 0.3257 - val_acc: 0.9124\n",
            "Epoch 15/50\n",
            "60000/60000 [==============================] - 1s 11us/step - loss: 0.3394 - acc: 0.9071 - val_loss: 0.3218 - val_acc: 0.9138\n",
            "Epoch 16/50\n",
            "60000/60000 [==============================] - 1s 11us/step - loss: 0.3351 - acc: 0.9080 - val_loss: 0.3185 - val_acc: 0.9143\n",
            "Epoch 17/50\n",
            "60000/60000 [==============================] - 1s 11us/step - loss: 0.3312 - acc: 0.9088 - val_loss: 0.3148 - val_acc: 0.9150\n",
            "Epoch 18/50\n",
            "60000/60000 [==============================] - 1s 11us/step - loss: 0.3278 - acc: 0.9095 - val_loss: 0.3123 - val_acc: 0.9157\n",
            "Epoch 19/50\n",
            "60000/60000 [==============================] - 1s 11us/step - loss: 0.3245 - acc: 0.9106 - val_loss: 0.3095 - val_acc: 0.9159\n",
            "Epoch 20/50\n",
            "60000/60000 [==============================] - 1s 11us/step - loss: 0.3215 - acc: 0.9112 - val_loss: 0.3068 - val_acc: 0.9171\n",
            "Epoch 21/50\n",
            "60000/60000 [==============================] - 1s 11us/step - loss: 0.3187 - acc: 0.9123 - val_loss: 0.3046 - val_acc: 0.9167\n",
            "Epoch 22/50\n",
            "60000/60000 [==============================] - 1s 11us/step - loss: 0.3162 - acc: 0.9127 - val_loss: 0.3026 - val_acc: 0.9170\n",
            "Epoch 23/50\n",
            "60000/60000 [==============================] - 1s 11us/step - loss: 0.3137 - acc: 0.9132 - val_loss: 0.3003 - val_acc: 0.9176\n",
            "Epoch 24/50\n",
            "60000/60000 [==============================] - 1s 11us/step - loss: 0.3115 - acc: 0.9140 - val_loss: 0.2984 - val_acc: 0.9179\n",
            "Epoch 25/50\n",
            "60000/60000 [==============================] - 1s 11us/step - loss: 0.3093 - acc: 0.9145 - val_loss: 0.2966 - val_acc: 0.9178\n",
            "Epoch 26/50\n",
            "60000/60000 [==============================] - 1s 11us/step - loss: 0.3073 - acc: 0.9151 - val_loss: 0.2949 - val_acc: 0.9177\n",
            "Epoch 27/50\n",
            "60000/60000 [==============================] - 1s 11us/step - loss: 0.3054 - acc: 0.9157 - val_loss: 0.2930 - val_acc: 0.9187\n",
            "Epoch 28/50\n",
            "60000/60000 [==============================] - 1s 11us/step - loss: 0.3036 - acc: 0.9162 - val_loss: 0.2915 - val_acc: 0.9192\n",
            "Epoch 29/50\n",
            "60000/60000 [==============================] - 1s 12us/step - loss: 0.3019 - acc: 0.9169 - val_loss: 0.2904 - val_acc: 0.9193\n",
            "Epoch 30/50\n",
            "60000/60000 [==============================] - 1s 11us/step - loss: 0.3002 - acc: 0.9170 - val_loss: 0.2888 - val_acc: 0.9192\n",
            "Epoch 31/50\n",
            "60000/60000 [==============================] - 1s 11us/step - loss: 0.2987 - acc: 0.9174 - val_loss: 0.2872 - val_acc: 0.9201\n",
            "Epoch 32/50\n",
            "60000/60000 [==============================] - 1s 11us/step - loss: 0.2972 - acc: 0.9181 - val_loss: 0.2862 - val_acc: 0.9198\n",
            "Epoch 33/50\n",
            "60000/60000 [==============================] - 1s 12us/step - loss: 0.2958 - acc: 0.9182 - val_loss: 0.2851 - val_acc: 0.9205\n",
            "Epoch 34/50\n",
            "60000/60000 [==============================] - 1s 11us/step - loss: 0.2944 - acc: 0.9186 - val_loss: 0.2844 - val_acc: 0.9211\n",
            "Epoch 35/50\n",
            "60000/60000 [==============================] - 1s 11us/step - loss: 0.2932 - acc: 0.9189 - val_loss: 0.2830 - val_acc: 0.9207\n",
            "Epoch 36/50\n",
            "60000/60000 [==============================] - 1s 11us/step - loss: 0.2919 - acc: 0.9193 - val_loss: 0.2819 - val_acc: 0.9206\n",
            "Epoch 37/50\n",
            "60000/60000 [==============================] - 1s 11us/step - loss: 0.2907 - acc: 0.9194 - val_loss: 0.2811 - val_acc: 0.9212\n",
            "Epoch 38/50\n",
            "60000/60000 [==============================] - 1s 11us/step - loss: 0.2895 - acc: 0.9202 - val_loss: 0.2802 - val_acc: 0.9224\n",
            "Epoch 39/50\n",
            "60000/60000 [==============================] - 1s 11us/step - loss: 0.2884 - acc: 0.9201 - val_loss: 0.2791 - val_acc: 0.9225\n",
            "Epoch 40/50\n",
            "60000/60000 [==============================] - 1s 11us/step - loss: 0.2873 - acc: 0.9205 - val_loss: 0.2786 - val_acc: 0.9225\n",
            "Epoch 41/50\n",
            "60000/60000 [==============================] - 1s 12us/step - loss: 0.2863 - acc: 0.9210 - val_loss: 0.2780 - val_acc: 0.9230\n",
            "Epoch 42/50\n",
            "60000/60000 [==============================] - 1s 11us/step - loss: 0.2853 - acc: 0.9212 - val_loss: 0.2772 - val_acc: 0.9233\n",
            "Epoch 43/50\n",
            "60000/60000 [==============================] - 1s 11us/step - loss: 0.2843 - acc: 0.9220 - val_loss: 0.2759 - val_acc: 0.9235\n",
            "Epoch 44/50\n",
            "60000/60000 [==============================] - 1s 11us/step - loss: 0.2834 - acc: 0.9218 - val_loss: 0.2749 - val_acc: 0.9238\n",
            "Epoch 45/50\n",
            "60000/60000 [==============================] - 1s 11us/step - loss: 0.2825 - acc: 0.9220 - val_loss: 0.2747 - val_acc: 0.9242\n",
            "Epoch 46/50\n",
            "60000/60000 [==============================] - 1s 11us/step - loss: 0.2817 - acc: 0.9223 - val_loss: 0.2738 - val_acc: 0.9236\n",
            "Epoch 47/50\n",
            "60000/60000 [==============================] - 1s 11us/step - loss: 0.2808 - acc: 0.9231 - val_loss: 0.2731 - val_acc: 0.9239\n",
            "Epoch 48/50\n",
            "60000/60000 [==============================] - 1s 11us/step - loss: 0.2800 - acc: 0.9228 - val_loss: 0.2725 - val_acc: 0.9245\n",
            "Epoch 49/50\n",
            "60000/60000 [==============================] - 1s 11us/step - loss: 0.2791 - acc: 0.9230 - val_loss: 0.2719 - val_acc: 0.9251\n",
            "Epoch 50/50\n",
            "60000/60000 [==============================] - 1s 12us/step - loss: 0.2784 - acc: 0.9232 - val_loss: 0.2715 - val_acc: 0.9246\n"
          ],
          "name": "stdout"
        }
      ]
    },
    {
      "metadata": {
        "id": "unKeEHsw4a5d",
        "colab_type": "text"
      },
      "cell_type": "markdown",
      "source": [
        "# **The accuracy of the model when we add 4 new features to is :**"
      ]
    },
    {
      "metadata": {
        "id": "yea936uQuZ53",
        "colab_type": "code",
        "colab": {
          "base_uri": "https://localhost:8080/",
          "height": 35
        },
        "outputId": "f9364b1b-0785-466b-9f3b-467b80b47125"
      },
      "cell_type": "code",
      "source": [
        "score = model.evaluate(X_test, y_test, verbose=0)\n",
        "print('Test Accuracy of the given model is :',score[1])"
      ],
      "execution_count": 8,
      "outputs": [
        {
          "output_type": "stream",
          "text": [
            "Test Accuracy of the given model is : 0.9246\n"
          ],
          "name": "stdout"
        }
      ]
    },
    {
      "metadata": {
        "id": "QkvX5JpN4njg",
        "colab_type": "text"
      },
      "cell_type": "markdown",
      "source": [
        "**From the above accuracy we can see that due to the new features the accuracy has increased from the previous  91.87 % to 92.91%**"
      ]
    },
    {
      "metadata": {
        "id": "iyNuNq-A7Yxp",
        "colab_type": "text"
      },
      "cell_type": "markdown",
      "source": [
        "This accurcy is low because we have no hidden layers. As we the number of hidden layers accuracy may increase."
      ]
    },
    {
      "metadata": {
        "id": "75FYE-J522TZ",
        "colab_type": "code",
        "colab": {
          "base_uri": "https://localhost:8080/",
          "height": 361
        },
        "outputId": "5372f851-db00-48ff-8fbf-d66618bab358"
      },
      "cell_type": "code",
      "source": [
        "accuracy_plot = plt.plot(range(1,epochs+1),model_fit.history['acc'],range(1,epochs+1),model_fit.history['val_acc'])\n",
        "plt.xlabel('Epoch-->')\n",
        "plt.ylabel('Accuracy -->')\n",
        "plt.legend(('Train Accuracy','Test Accuracy'))\n",
        "plt.show(accuracy_plot)"
      ],
      "execution_count": 9,
      "outputs": [
        {
          "output_type": "display_data",
          "data": {
            "image/png": "[encoded data removed]",
            "text/plain": [
              "<Figure size 576x396 with 1 Axes>"
            ]
          },
          "metadata": {
            "tags": []
          }
        }
      ]
    },
    {
      "metadata": {
        "id": "nVFes_a_5LzI",
        "colab_type": "text"
      },
      "cell_type": "markdown",
      "source": [
        "# **The above plot is of Epoch vs Accuracy for both Train accuracy and test accuracy**"
      ]
    },
    {
      "metadata": {
        "id": "iA3GfAfu5VkG",
        "colab_type": "code",
        "colab": {}
      },
      "cell_type": "code",
      "source": [
        ""
      ],
      "execution_count": 0,
      "outputs": []
    }
  ]
}