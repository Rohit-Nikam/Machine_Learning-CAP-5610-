{
  "nbformat": 4,
  "nbformat_minor": 0,
  "metadata": {
    "colab": {
      "name": "program1_using_one_hot_encoder.ipynb",
      "version": "0.3.2",
      "provenance": [],
      "include_colab_link": true
    },
    "kernelspec": {
      "name": "python3",
      "display_name": "Python 3"
    }
  },
  "cells": [
    {
      "cell_type": "markdown",
      "metadata": {
        "id": "view-in-github",
        "colab_type": "text"
      },
      "source": [
        "<a href=\"https://colab.research.google.com/github/Rohit-Nikam/Machine_Learning-CAP-5610-/blob/master/program1_using_one_hot_encoder.ipynb\" target=\"_parent\"><img src=\"https://colab.research.google.com/assets/colab-badge.svg\" alt=\"Open In Colab\"/></a>"
      ]
    },
    {
      "metadata": {
        "id": "bVmZZM6WghFQ",
        "colab_type": "code",
        "colab": {
          "base_uri": "https://localhost:8080/",
          "height": 35
        },
        "outputId": "6be321dd-463e-455b-818a-23ce96b8bc9d"
      },
      "cell_type": "code",
      "source": [
        "import numpy as np\n",
        "import pandas as pd\n",
        "import matplotlib\n",
        "import matplotlib.pyplot as plt\n",
        "import keras\n",
        "from keras.datasets import mnist\n",
        "from sklearn.model_selection import StratifiedShuffleSplit"
      ],
      "execution_count": 1,
      "outputs": [
        {
          "output_type": "stream",
          "text": [
            "Using TensorFlow backend.\n"
          ],
          "name": "stderr"
        }
      ]
    },
    {
      "metadata": {
        "id": "IwoXJHHcj2Wg",
        "colab_type": "code",
        "colab": {}
      },
      "cell_type": "code",
      "source": [
        "(X_train, y_train), (X_test, y_test) = mnist.load_data()"
      ],
      "execution_count": 0,
      "outputs": []
    },
    {
      "metadata": {
        "id": "JkLNZwQnj2cC",
        "colab_type": "code",
        "colab": {}
      },
      "cell_type": "code",
      "source": [
        "X_train = (X_train.reshape(X_train.shape[0],X_train.shape[1]*X_train.shape[2]))\n",
        "X_test = (X_test.reshape(X_test.shape[0],X_test.shape[1]*X_test.shape[2]))"
      ],
      "execution_count": 0,
      "outputs": []
    },
    {
      "metadata": {
        "id": "s3blQfUTj2e9",
        "colab_type": "code",
        "colab": {}
      },
      "cell_type": "code",
      "source": [
        "test_target = y_test\n",
        "y_train = (keras.utils.to_categorical(y_train,10))\n",
        "y_test = (keras.utils.to_categorical(y_test,10))"
      ],
      "execution_count": 0,
      "outputs": []
    },
    {
      "metadata": {
        "id": "fN5FvcNzj7ja",
        "colab_type": "code",
        "colab": {
          "base_uri": "https://localhost:8080/",
          "height": 87
        },
        "outputId": "fed595d5-4ce7-4bc0-f85a-bf5734bc9897"
      },
      "cell_type": "code",
      "source": [
        "print('Shape of training set predictors :',X_train.shape)\n",
        "print('Shape of training set target :',y_train.shape)\n",
        "print('Shape of testing set predictors :',X_test.shape)\n",
        "print('Shape of testing set target :',y_test.shape)"
      ],
      "execution_count": 5,
      "outputs": [
        {
          "output_type": "stream",
          "text": [
            "Shape of training set predictors : (60000, 784)\n",
            "Shape of training set target : (60000, 10)\n",
            "Shape of testing set predictors : (10000, 784)\n",
            "Shape of testing set target : (10000, 10)\n"
          ],
          "name": "stdout"
        }
      ]
    },
    {
      "metadata": {
        "id": "NHPzmd09j7gD",
        "colab_type": "code",
        "colab": {}
      },
      "cell_type": "code",
      "source": [
        "X_train = X_train.astype('float32')\n",
        "X_test = X_test.astype('float32')\n",
        "X_train /= 255\n",
        "X_test /= 255"
      ],
      "execution_count": 0,
      "outputs": []
    },
    {
      "metadata": {
        "id": "b2LVU6N1j2iK",
        "colab_type": "code",
        "colab": {}
      },
      "cell_type": "code",
      "source": [
        "### theta and bias initilization\n",
        "theta = np.random.randn(10,784)*0.01\n",
        "bias = np.random.randn(10,1)*0.01\n"
      ],
      "execution_count": 0,
      "outputs": []
    },
    {
      "metadata": {
        "id": "ZWZzO7GMj2aq",
        "colab_type": "code",
        "colab": {
          "base_uri": "https://localhost:8080/",
          "height": 35
        },
        "outputId": "ac47d9cb-f4b3-4fac-8c68-1a8fd6b7418b"
      },
      "cell_type": "code",
      "source": [
        "epochs = 16\n",
        "m = len(X_train)\n",
        "learning_rate = 0.005\n",
        "batch_size = 100\n",
        "result_loss = []\n",
        "\n",
        "\n",
        "def mse_loss(yi,sigma):\n",
        "  return np.square(sigma - np.transpose(yi)).mean()\n",
        "  \n",
        "  \n",
        "def sigmoid(t):\n",
        "    return 1/(1+np.exp(-t))\n",
        "\n",
        "def loss_function(theta,bias,xi,yi):   #here xi is transposed\n",
        "    z = np.dot(theta,np.transpose(xi)) + bias\n",
        "    sigma = sigmoid(z)\n",
        "    diff_sigma = sigmoid(sigma)   #\n",
        "    penalty = -(np.transpose(yi)-sigma)#,axis = 1, keepdims =True)/len(xi)\n",
        "    temp = np.multiply(penalty,diff_sigma*(1-diff_sigma))        #\n",
        "    diff_loss = np.dot(temp,xi)     #\n",
        "    diff_bias = np.sum(temp)\n",
        "    loss = mse_loss(yi,sigma)\n",
        "    return loss,diff_loss,diff_bias         #\n",
        "    \n",
        "    \n",
        "for epoch in range(epochs):\n",
        "    shuffled_indices = np.random.permutation(m)       \n",
        "    X_train = X_train[shuffled_indices]\n",
        "    y_train = y_train[shuffled_indices]\n",
        "    loss_list = []\n",
        "    for i in range(0,m,batch_size):\n",
        "        random_index = np.random.randint(m-(batch_size+2))\n",
        "        xi = X_train[random_index:random_index+batch_size]\n",
        "        yi = y_train[random_index:random_index+batch_size]\n",
        "        loss,diff_loss,diff_bias = loss_function(theta,bias,xi,yi)\n",
        "        theta = theta - learning_rate * diff_loss\n",
        "        bias = bias - learning_rate * diff_bias\n",
        "        loss_list.append(loss)\n",
        "    result_loss.append(loss)\n",
        "theta_min = theta \n",
        "bias_min = bias\n",
        "print('success')\n"
      ],
      "execution_count": 8,
      "outputs": [
        {
          "output_type": "stream",
          "text": [
            "success\n"
          ],
          "name": "stdout"
        }
      ]
    },
    {
      "metadata": {
        "id": "BfSffzWUj2UK",
        "colab_type": "code",
        "colab": {}
      },
      "cell_type": "code",
      "source": [
        "### testing our theta optimum on test data\n",
        "z = np.dot(theta_min,np.transpose(X_test)) + bias_min\n",
        "sigma = sigmoid(z)\n",
        "test_output = np.transpose(sigma)"
      ],
      "execution_count": 0,
      "outputs": []
    },
    {
      "metadata": {
        "id": "ZZ7BblSu1Am5",
        "colab_type": "text"
      },
      "cell_type": "markdown",
      "source": [
        "# **The Accuracy of the model is :**"
      ]
    },
    {
      "metadata": {
        "id": "3Q_xG-O9kUDo",
        "colab_type": "code",
        "colab": {
          "base_uri": "https://localhost:8080/",
          "height": 35
        },
        "outputId": "9b7625eb-4165-4e46-9ed8-e9dce6fdf4c5"
      },
      "cell_type": "code",
      "source": [
        "reverse_encoding = [np.argmax(test_output[i]) for i in range(len(test_output))]\n",
        "checking_accuracy = [1 for i in range(len(y_test)) if reverse_encoding[i] == test_target[i]]\n",
        "acc = np.sum(checking_accuracy)/100\n",
        "print(\"accuracy:\",acc)"
      ],
      "execution_count": 10,
      "outputs": [
        {
          "output_type": "stream",
          "text": [
            "accuracy: 91.63\n"
          ],
          "name": "stdout"
        }
      ]
    },
    {
      "metadata": {
        "id": "eUE0PoiX1JPN",
        "colab_type": "text"
      },
      "cell_type": "markdown",
      "source": [
        "# **The behaviour of loss function as the epoch increases:**"
      ]
    },
    {
      "metadata": {
        "id": "G0nFc20mkUHi",
        "colab_type": "code",
        "colab": {
          "base_uri": "https://localhost:8080/",
          "height": 365
        },
        "outputId": "34d08040-3b76-4bb5-aa89-95bfea62d377"
      },
      "cell_type": "code",
      "source": [
        "accuracy_plot = plt.plot(range(1,epochs +1),result_loss)\n",
        "plt.xlabel('Epoch-->')\n",
        "plt.ylabel('Loss -->')\n",
        "plt.show(accuracy_plot)"
      ],
      "execution_count": 11,
      "outputs": [
        {
          "output_type": "display_data",
          "data": {
            "image/png": "[encoded data removed]",
            "text/plain": [
              "<Figure size 576x396 with 1 Axes>"
            ]
          },
          "metadata": {
            "tags": []
          }
        }
      ]
    },
    {
      "metadata": {
        "id": "7fAnqjOGj2RV",
        "colab_type": "code",
        "colab": {}
      },
      "cell_type": "code",
      "source": [
        ""
      ],
      "execution_count": 0,
      "outputs": []
    }
  ]
}