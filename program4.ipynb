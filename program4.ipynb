{
  "nbformat": 4,
  "nbformat_minor": 0,
  "metadata": {
    "colab": {
      "name": "program4.ipynb",
      "version": "0.3.2",
      "provenance": [],
      "include_colab_link": true
    },
    "kernelspec": {
      "name": "python3",
      "display_name": "Python 3"
    },
    "accelerator": "GPU"
  },
  "cells": [
    {
      "cell_type": "markdown",
      "metadata": {
        "id": "view-in-github",
        "colab_type": "text"
      },
      "source": [
        "<a href=\"https://colab.research.google.com/github/Rohit-Nikam/Machine_Learning-CAP-5610-/blob/master/program4.ipynb\" target=\"_parent\"><img src=\"https://colab.research.google.com/assets/colab-badge.svg\" alt=\"Open In Colab\"/></a>"
      ]
    },
    {
      "metadata": {
        "id": "VmDiIM0G4AEn",
        "colab_type": "code",
        "outputId": "edad031e-d440-4bed-f51d-8237ad7f1600",
        "colab": {
          "base_uri": "https://localhost:8080/",
          "height": 35
        }
      },
      "cell_type": "code",
      "source": [
        "import numpy as np\n",
        "import keras \n",
        "from keras.datasets import mnist\n",
        "import matplotlib.pyplot as plt\n",
        "learning_rate = 0.05\n",
        "epochs = 50\n",
        "batch_size = 500"
      ],
      "execution_count": 1,
      "outputs": [
        {
          "output_type": "stream",
          "text": [
            "Using TensorFlow backend.\n"
          ],
          "name": "stderr"
        }
      ]
    },
    {
      "metadata": {
        "id": "wXCoQK6x4SLE",
        "colab_type": "code",
        "outputId": "c6aca0c8-64b2-4718-ba9b-1f670a3e47f1",
        "colab": {
          "base_uri": "https://localhost:8080/",
          "height": 52
        }
      },
      "cell_type": "code",
      "source": [
        "(X_train,y_train), (X_test,y_test) = mnist.load_data()"
      ],
      "execution_count": 2,
      "outputs": [
        {
          "output_type": "stream",
          "text": [
            "Downloading data from https://s3.amazonaws.com/img-datasets/mnist.npz\n",
            "11493376/11490434 [==============================] - 2s 0us/step\n"
          ],
          "name": "stdout"
        }
      ]
    },
    {
      "metadata": {
        "id": "gZhnFmGR4qLh",
        "colab_type": "code",
        "outputId": "c9102b95-e46a-4bdf-a60b-732746f49537",
        "colab": {
          "base_uri": "https://localhost:8080/",
          "height": 87
        }
      },
      "cell_type": "code",
      "source": [
        "print('The shape of X_train :',X_train.shape)\n",
        "print('The shape of y_train :',y_train.shape)\n",
        "print('The shape of X_test :',X_test.shape)\n",
        "print('The shape of y_test :',y_test.shape)"
      ],
      "execution_count": 3,
      "outputs": [
        {
          "output_type": "stream",
          "text": [
            "The shape of X_train : (60000, 28, 28)\n",
            "The shape of y_train : (60000,)\n",
            "The shape of X_test : (10000, 28, 28)\n",
            "The shape of y_test : (10000,)\n"
          ],
          "name": "stdout"
        }
      ]
    },
    {
      "metadata": {
        "id": "vU--qwwL-pMa",
        "colab_type": "code",
        "colab": {}
      },
      "cell_type": "code",
      "source": [
        "## Reshaping the data i.e flatening it\n",
        "X_train = (X_train.reshape(X_train.shape[0],X_train.shape[1]*X_train.shape[2]))\n",
        "X_test = (X_test.reshape(X_test.shape[0],X_test.shape[1]*X_test.shape[2]))\n",
        "X_train = X_train.astype('float32')\n",
        "X_test = X_test.astype('float32')\n",
        "# Normalizing the data\n",
        "X_train /= 255\n",
        "X_test /= 255"
      ],
      "execution_count": 0,
      "outputs": []
    },
    {
      "metadata": {
        "id": "wvDc4Gwg_Qji",
        "colab_type": "code",
        "outputId": "0e48b244-506b-4abd-a8a4-dcd02ce8cb6d",
        "colab": {
          "base_uri": "https://localhost:8080/",
          "height": 52
        }
      },
      "cell_type": "code",
      "source": [
        "print('The shape of X_train :',X_train.shape)\n",
        "print('The shape of X_test :',X_test.shape)"
      ],
      "execution_count": 5,
      "outputs": [
        {
          "output_type": "stream",
          "text": [
            "The shape of X_train : (60000, 784)\n",
            "The shape of X_test : (10000, 784)\n"
          ],
          "name": "stdout"
        }
      ]
    },
    {
      "metadata": {
        "id": "M3yad3-e_hQG",
        "colab_type": "code",
        "colab": {}
      },
      "cell_type": "code",
      "source": [
        "## As our target is a single of single dimensiom. We convert it to a distinct class labels.\n",
        "## here as we have 10 numbers we make a class of 10 distinct numbers using one-hot encoder.\n",
        "y_train = keras.utils.to_categorical(y_train, 10)\n",
        "y_test = keras.utils.to_categorical(y_test, 10)"
      ],
      "execution_count": 0,
      "outputs": []
    },
    {
      "metadata": {
        "id": "GzxQBtaR_hYG",
        "colab_type": "code",
        "outputId": "0e80b718-5c15-4dd9-a646-cbced69bf948",
        "colab": {
          "base_uri": "https://localhost:8080/",
          "height": 52
        }
      },
      "cell_type": "code",
      "source": [
        "print('The shape of y_train :',y_train.shape)\n",
        "print('The shape of y_test :',y_test.shape)\n"
      ],
      "execution_count": 7,
      "outputs": [
        {
          "output_type": "stream",
          "text": [
            "The shape of y_train : (60000, 10)\n",
            "The shape of y_test : (10000, 10)\n"
          ],
          "name": "stdout"
        }
      ]
    },
    {
      "metadata": {
        "id": "0mKZ1M7XGUcd",
        "colab_type": "code",
        "colab": {
          "base_uri": "https://localhost:8080/",
          "height": 89
        },
        "outputId": "84a8d27d-d6af-40ea-ba8c-0efc5fe51a9d"
      },
      "cell_type": "code",
      "source": [
        "model = keras.models.Sequential()\n",
        "model.add(keras.layers.Dense(units = 10, activation = 'softmax'))\n",
        "sgd = keras.optimizers.SGD(lr=learning_rate)\n",
        "model.compile(loss='categorical_crossentropy', optimizer=sgd, metrics=['accuracy'])"
      ],
      "execution_count": 8,
      "outputs": [
        {
          "output_type": "stream",
          "text": [
            "WARNING:tensorflow:From /usr/local/lib/python3.6/dist-packages/tensorflow/python/framework/op_def_library.py:263: colocate_with (from tensorflow.python.framework.ops) is deprecated and will be removed in a future version.\n",
            "Instructions for updating:\n",
            "Colocations handled automatically by placer.\n"
          ],
          "name": "stdout"
        }
      ]
    },
    {
      "metadata": {
        "id": "0jAMOimYGUZ0",
        "colab_type": "code",
        "outputId": "486aba02-7be7-4071-f2f3-58e3bff45ce1",
        "colab": {
          "base_uri": "https://localhost:8080/",
          "height": 1840
        }
      },
      "cell_type": "code",
      "source": [
        "model_fit = model.fit(X_train, y_train, batch_size=batch_size, epochs=epochs, verbose=1,validation_data=(X_test, y_test))\n"
      ],
      "execution_count": 9,
      "outputs": [
        {
          "output_type": "stream",
          "text": [
            "WARNING:tensorflow:From /usr/local/lib/python3.6/dist-packages/tensorflow/python/ops/math_ops.py:3066: to_int32 (from tensorflow.python.ops.math_ops) is deprecated and will be removed in a future version.\n",
            "Instructions for updating:\n",
            "Use tf.cast instead.\n",
            "Train on 60000 samples, validate on 10000 samples\n",
            "Epoch 1/50\n",
            "60000/60000 [==============================] - 3s 52us/step - loss: 1.1861 - acc: 0.7168 - val_loss: 0.7354 - val_acc: 0.8402\n",
            "Epoch 2/50\n",
            "60000/60000 [==============================] - 1s 9us/step - loss: 0.6539 - acc: 0.8475 - val_loss: 0.5599 - val_acc: 0.8651\n",
            "Epoch 3/50\n",
            "60000/60000 [==============================] - 1s 9us/step - loss: 0.5435 - acc: 0.8648 - val_loss: 0.4904 - val_acc: 0.8762\n",
            "Epoch 4/50\n",
            "60000/60000 [==============================] - 1s 9us/step - loss: 0.4907 - acc: 0.8737 - val_loss: 0.4509 - val_acc: 0.8829\n",
            "Epoch 5/50\n",
            "60000/60000 [==============================] - 1s 10us/step - loss: 0.4584 - acc: 0.8796 - val_loss: 0.4250 - val_acc: 0.8877\n",
            "Epoch 6/50\n",
            "60000/60000 [==============================] - 1s 9us/step - loss: 0.4360 - acc: 0.8841 - val_loss: 0.4066 - val_acc: 0.8915\n",
            "Epoch 7/50\n",
            "60000/60000 [==============================] - 1s 9us/step - loss: 0.4193 - acc: 0.8878 - val_loss: 0.3925 - val_acc: 0.8948\n",
            "Epoch 8/50\n",
            "60000/60000 [==============================] - 1s 9us/step - loss: 0.4063 - acc: 0.8901 - val_loss: 0.3814 - val_acc: 0.8971\n",
            "Epoch 9/50\n",
            "60000/60000 [==============================] - 1s 9us/step - loss: 0.3957 - acc: 0.8925 - val_loss: 0.3723 - val_acc: 0.8992\n",
            "Epoch 10/50\n",
            "60000/60000 [==============================] - 1s 9us/step - loss: 0.3869 - acc: 0.8947 - val_loss: 0.3647 - val_acc: 0.9010\n",
            "Epoch 11/50\n",
            "60000/60000 [==============================] - 1s 9us/step - loss: 0.3795 - acc: 0.8967 - val_loss: 0.3582 - val_acc: 0.9028\n",
            "Epoch 12/50\n",
            "60000/60000 [==============================] - 1s 9us/step - loss: 0.3730 - acc: 0.8982 - val_loss: 0.3526 - val_acc: 0.9038\n",
            "Epoch 13/50\n",
            "60000/60000 [==============================] - 1s 9us/step - loss: 0.3674 - acc: 0.8994 - val_loss: 0.3480 - val_acc: 0.9043\n",
            "Epoch 14/50\n",
            "60000/60000 [==============================] - 1s 9us/step - loss: 0.3624 - acc: 0.9002 - val_loss: 0.3436 - val_acc: 0.9060\n",
            "Epoch 15/50\n",
            "60000/60000 [==============================] - 1s 9us/step - loss: 0.3579 - acc: 0.9013 - val_loss: 0.3396 - val_acc: 0.9068\n",
            "Epoch 16/50\n",
            "60000/60000 [==============================] - 1s 9us/step - loss: 0.3539 - acc: 0.9020 - val_loss: 0.3364 - val_acc: 0.9071\n",
            "Epoch 17/50\n",
            "60000/60000 [==============================] - 1s 10us/step - loss: 0.3503 - acc: 0.9031 - val_loss: 0.3328 - val_acc: 0.9083\n",
            "Epoch 18/50\n",
            "60000/60000 [==============================] - 1s 9us/step - loss: 0.3470 - acc: 0.9036 - val_loss: 0.3301 - val_acc: 0.9097\n",
            "Epoch 19/50\n",
            "60000/60000 [==============================] - 1s 9us/step - loss: 0.3439 - acc: 0.9045 - val_loss: 0.3275 - val_acc: 0.9103\n",
            "Epoch 20/50\n",
            "60000/60000 [==============================] - 1s 10us/step - loss: 0.3410 - acc: 0.9054 - val_loss: 0.3250 - val_acc: 0.9106\n",
            "Epoch 21/50\n",
            "60000/60000 [==============================] - 1s 9us/step - loss: 0.3384 - acc: 0.9062 - val_loss: 0.3229 - val_acc: 0.9107\n",
            "Epoch 22/50\n",
            "60000/60000 [==============================] - 1s 9us/step - loss: 0.3360 - acc: 0.9065 - val_loss: 0.3208 - val_acc: 0.9119\n",
            "Epoch 23/50\n",
            "60000/60000 [==============================] - 1s 9us/step - loss: 0.3337 - acc: 0.9070 - val_loss: 0.3189 - val_acc: 0.9120\n",
            "Epoch 24/50\n",
            "60000/60000 [==============================] - 1s 9us/step - loss: 0.3316 - acc: 0.9073 - val_loss: 0.3172 - val_acc: 0.9130\n",
            "Epoch 25/50\n",
            "60000/60000 [==============================] - 1s 9us/step - loss: 0.3296 - acc: 0.9079 - val_loss: 0.3156 - val_acc: 0.9137\n",
            "Epoch 26/50\n",
            "60000/60000 [==============================] - 1s 9us/step - loss: 0.3277 - acc: 0.9085 - val_loss: 0.3138 - val_acc: 0.9143\n",
            "Epoch 27/50\n",
            "60000/60000 [==============================] - 1s 9us/step - loss: 0.3259 - acc: 0.9089 - val_loss: 0.3126 - val_acc: 0.9130\n",
            "Epoch 28/50\n",
            "60000/60000 [==============================] - 1s 9us/step - loss: 0.3242 - acc: 0.9094 - val_loss: 0.3110 - val_acc: 0.9146\n",
            "Epoch 29/50\n",
            "60000/60000 [==============================] - 1s 9us/step - loss: 0.3226 - acc: 0.9100 - val_loss: 0.3100 - val_acc: 0.9148\n",
            "Epoch 30/50\n",
            "60000/60000 [==============================] - 1s 9us/step - loss: 0.3212 - acc: 0.9106 - val_loss: 0.3085 - val_acc: 0.9151\n",
            "Epoch 31/50\n",
            "60000/60000 [==============================] - 1s 9us/step - loss: 0.3197 - acc: 0.9110 - val_loss: 0.3074 - val_acc: 0.9154\n",
            "Epoch 32/50\n",
            "60000/60000 [==============================] - 1s 9us/step - loss: 0.3183 - acc: 0.9113 - val_loss: 0.3063 - val_acc: 0.9150\n",
            "Epoch 33/50\n",
            "60000/60000 [==============================] - 1s 9us/step - loss: 0.3170 - acc: 0.9116 - val_loss: 0.3051 - val_acc: 0.9159\n",
            "Epoch 34/50\n",
            "60000/60000 [==============================] - 1s 9us/step - loss: 0.3157 - acc: 0.9120 - val_loss: 0.3041 - val_acc: 0.9164\n",
            "Epoch 35/50\n",
            "60000/60000 [==============================] - 1s 9us/step - loss: 0.3146 - acc: 0.9121 - val_loss: 0.3030 - val_acc: 0.9161\n",
            "Epoch 36/50\n",
            "60000/60000 [==============================] - 1s 9us/step - loss: 0.3134 - acc: 0.9127 - val_loss: 0.3022 - val_acc: 0.9169\n",
            "Epoch 37/50\n",
            "60000/60000 [==============================] - 1s 9us/step - loss: 0.3123 - acc: 0.9132 - val_loss: 0.3014 - val_acc: 0.9169\n",
            "Epoch 38/50\n",
            "60000/60000 [==============================] - 1s 9us/step - loss: 0.3113 - acc: 0.9134 - val_loss: 0.3005 - val_acc: 0.9170\n",
            "Epoch 39/50\n",
            "60000/60000 [==============================] - 1s 9us/step - loss: 0.3102 - acc: 0.9141 - val_loss: 0.3000 - val_acc: 0.9167\n",
            "Epoch 40/50\n",
            "60000/60000 [==============================] - 1s 9us/step - loss: 0.3093 - acc: 0.9140 - val_loss: 0.2989 - val_acc: 0.9173\n",
            "Epoch 41/50\n",
            "60000/60000 [==============================] - 1s 9us/step - loss: 0.3083 - acc: 0.9143 - val_loss: 0.2984 - val_acc: 0.9176\n",
            "Epoch 42/50\n",
            "60000/60000 [==============================] - 1s 9us/step - loss: 0.3074 - acc: 0.9144 - val_loss: 0.2976 - val_acc: 0.9176\n",
            "Epoch 43/50\n",
            "60000/60000 [==============================] - 1s 9us/step - loss: 0.3065 - acc: 0.9149 - val_loss: 0.2969 - val_acc: 0.9177\n",
            "Epoch 44/50\n",
            "60000/60000 [==============================] - 1s 9us/step - loss: 0.3057 - acc: 0.9152 - val_loss: 0.2962 - val_acc: 0.9178\n",
            "Epoch 45/50\n",
            "60000/60000 [==============================] - 1s 9us/step - loss: 0.3048 - acc: 0.9152 - val_loss: 0.2959 - val_acc: 0.9180\n",
            "Epoch 46/50\n",
            "60000/60000 [==============================] - 1s 9us/step - loss: 0.3041 - acc: 0.9155 - val_loss: 0.2950 - val_acc: 0.9179\n",
            "Epoch 47/50\n",
            "60000/60000 [==============================] - 1s 9us/step - loss: 0.3033 - acc: 0.9157 - val_loss: 0.2945 - val_acc: 0.9184\n",
            "Epoch 48/50\n",
            "60000/60000 [==============================] - 1s 9us/step - loss: 0.3026 - acc: 0.9160 - val_loss: 0.2940 - val_acc: 0.9187\n",
            "Epoch 49/50\n",
            "60000/60000 [==============================] - 1s 9us/step - loss: 0.3018 - acc: 0.9163 - val_loss: 0.2932 - val_acc: 0.9191\n",
            "Epoch 50/50\n",
            "60000/60000 [==============================] - 1s 9us/step - loss: 0.3011 - acc: 0.9167 - val_loss: 0.2925 - val_acc: 0.9187\n"
          ],
          "name": "stdout"
        }
      ]
    },
    {
      "metadata": {
        "id": "WEMIsmrv_hfg",
        "colab_type": "code",
        "outputId": "a62b246b-01b9-42b0-bb8c-09ac844edd93",
        "colab": {
          "base_uri": "https://localhost:8080/",
          "height": 35
        }
      },
      "cell_type": "code",
      "source": [
        "score = model.evaluate(X_test, y_test, verbose=0)\n",
        "print('Test Accuracy of the given model is :',score[1])"
      ],
      "execution_count": 10,
      "outputs": [
        {
          "output_type": "stream",
          "text": [
            "Test Accuracy of the given model is : 0.9187\n"
          ],
          "name": "stdout"
        }
      ]
    },
    {
      "metadata": {
        "id": "oNGxZ4X2_hnu",
        "colab_type": "code",
        "colab": {
          "base_uri": "https://localhost:8080/",
          "height": 361
        },
        "outputId": "007d2e23-74c6-4f1a-e828-a3ad300bb3b6"
      },
      "cell_type": "code",
      "source": [
        "accuracy_plot = plt.plot(range(1,epochs+1),model_fit.history['acc'],range(1,epochs+1),model_fit.history['val_acc'])\n",
        "plt.xlabel('Epoch-->')\n",
        "plt.ylabel('Accuracy -->')\n",
        "plt.legend(('Train Accuracy','Test Accuracy'))\n",
        "plt.show(accuracy_plot)"
      ],
      "execution_count": 11,
      "outputs": [
        {
          "output_type": "display_data",
          "data": {
            "image/png": "[encoded data removed]",
            "text/plain": [
              "<Figure size 576x396 with 1 Axes>"
            ]
          },
          "metadata": {
            "tags": []
          }
        }
      ]
    },
    {
      "metadata": {
        "id": "fGZX6CUW_hvg",
        "colab_type": "code",
        "colab": {}
      },
      "cell_type": "code",
      "source": [
        ""
      ],
      "execution_count": 0,
      "outputs": []
    }
  ]
}