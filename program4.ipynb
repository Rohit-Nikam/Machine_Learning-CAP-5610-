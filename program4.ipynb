{
  "nbformat": 4,
  "nbformat_minor": 0,
  "metadata": {
    "colab": {
      "name": "program4.ipynb",
      "version": "0.3.2",
      "provenance": [],
      "include_colab_link": true
    },
    "kernelspec": {
      "name": "python3",
      "display_name": "Python 3"
    },
    "accelerator": "GPU"
  },
  "cells": [
    {
      "cell_type": "markdown",
      "metadata": {
        "id": "view-in-github",
        "colab_type": "text"
      },
      "source": [
        "<a href=\"https://colab.research.google.com/github/Rohit-Nikam/Machine_Learning-CAP-5610-/blob/master/program4.ipynb\" target=\"_parent\"><img src=\"https://colab.research.google.com/assets/colab-badge.svg\" alt=\"Open In Colab\"/></a>"
      ]
    },
    {
      "metadata": {
        "id": "VmDiIM0G4AEn",
        "colab_type": "code",
        "colab": {
          "base_uri": "https://localhost:8080/",
          "height": 35
        },
        "outputId": "0a5ada05-3ed5-4477-fb7c-c102cbbf4999"
      },
      "cell_type": "code",
      "source": [
        "import numpy as np\n",
        "import keras \n",
        "from keras.datasets import mnist\n",
        "##50 100"
      ],
      "execution_count": 1,
      "outputs": [
        {
          "output_type": "stream",
          "text": [
            "Using TensorFlow backend.\n"
          ],
          "name": "stderr"
        }
      ]
    },
    {
      "metadata": {
        "id": "wXCoQK6x4SLE",
        "colab_type": "code",
        "colab": {
          "base_uri": "https://localhost:8080/",
          "height": 52
        },
        "outputId": "20b72b26-045c-4dcf-cf45-21bd3571ae1a"
      },
      "cell_type": "code",
      "source": [
        "(X_train,y_train), (X_test,y_test) = mnist.load_data()"
      ],
      "execution_count": 2,
      "outputs": [
        {
          "output_type": "stream",
          "text": [
            "Downloading data from https://s3.amazonaws.com/img-datasets/mnist.npz\n",
            "11493376/11490434 [==============================] - 2s 0us/step\n"
          ],
          "name": "stdout"
        }
      ]
    },
    {
      "metadata": {
        "id": "gZhnFmGR4qLh",
        "colab_type": "code",
        "colab": {
          "base_uri": "https://localhost:8080/",
          "height": 87
        },
        "outputId": "3957896a-e77e-4505-e549-fba0589e6208"
      },
      "cell_type": "code",
      "source": [
        "print('The shape of X_train :',X_train.shape)\n",
        "print('The shape of y_train :',y_train.shape)\n",
        "print('The shape of X_test :',X_test.shape)\n",
        "print('The shape of y_test :',y_test.shape)"
      ],
      "execution_count": 3,
      "outputs": [
        {
          "output_type": "stream",
          "text": [
            "The shape of X_train : (60000, 28, 28)\n",
            "The shape of y_train : (60000,)\n",
            "The shape of X_test : (10000, 28, 28)\n",
            "The shape of y_test : (10000,)\n"
          ],
          "name": "stdout"
        }
      ]
    },
    {
      "metadata": {
        "id": "vU--qwwL-pMa",
        "colab_type": "code",
        "colab": {}
      },
      "cell_type": "code",
      "source": [
        "X_train = (X_train.reshape(X_train.shape[0],X_train.shape[1]*X_train.shape[2]))\n",
        "X_test = (X_test.reshape(X_test.shape[0],X_test.shape[1]*X_test.shape[2]))\n",
        "X_train = X_train.astype('float32')\n",
        "X_test = X_test.astype('float32')\n",
        "# Normalizing the data\n",
        "X_train /= 255\n",
        "X_test /= 255"
      ],
      "execution_count": 0,
      "outputs": []
    },
    {
      "metadata": {
        "id": "wvDc4Gwg_Qji",
        "colab_type": "code",
        "colab": {
          "base_uri": "https://localhost:8080/",
          "height": 52
        },
        "outputId": "f403d6bd-e2b5-47d8-827f-fb1cf9f048e0"
      },
      "cell_type": "code",
      "source": [
        "print('The shape of X_train :',X_train.shape)\n",
        "print('The shape of X_test :',X_test.shape)"
      ],
      "execution_count": 5,
      "outputs": [
        {
          "output_type": "stream",
          "text": [
            "The shape of X_train : (60000, 784)\n",
            "The shape of X_test : (10000, 784)\n"
          ],
          "name": "stdout"
        }
      ]
    },
    {
      "metadata": {
        "id": "M3yad3-e_hQG",
        "colab_type": "code",
        "colab": {}
      },
      "cell_type": "code",
      "source": [
        "## As our target is a single of single dimensiom. We convert it to a distinct class labels.\n",
        "## here as we have 10 numbers we make a class of 10 distinct numbers using one-hot encoder.\n",
        "y_train = keras.utils.to_categorical(y_train, 10)\n",
        "y_test = keras.utils.to_categorical(y_test, 10)"
      ],
      "execution_count": 0,
      "outputs": []
    },
    {
      "metadata": {
        "id": "GzxQBtaR_hYG",
        "colab_type": "code",
        "colab": {
          "base_uri": "https://localhost:8080/",
          "height": 52
        },
        "outputId": "cbd5ee4a-53b4-4f98-ca93-1d3725bae54a"
      },
      "cell_type": "code",
      "source": [
        "print('The shape of y_train :',y_train.shape)\n",
        "print('The shape of y_test :',y_test.shape)\n"
      ],
      "execution_count": 8,
      "outputs": [
        {
          "output_type": "stream",
          "text": [
            "The shape of y_train : (60000, 10)\n",
            "The shape of y_test : (10000, 10)\n"
          ],
          "name": "stdout"
        }
      ]
    },
    {
      "metadata": {
        "id": "0mKZ1M7XGUcd",
        "colab_type": "code",
        "colab": {}
      },
      "cell_type": "code",
      "source": [
        "model = keras.models.Sequential()"
      ],
      "execution_count": 0,
      "outputs": []
    },
    {
      "metadata": {
        "id": "IiXSJMAxGUfk",
        "colab_type": "code",
        "colab": {}
      },
      "cell_type": "code",
      "source": [
        "model.add(keras.layers.Dense(units = 10, activation = 'softmax'))"
      ],
      "execution_count": 0,
      "outputs": []
    },
    {
      "metadata": {
        "id": "1YmXkq3HGUi-",
        "colab_type": "code",
        "colab": {
          "base_uri": "https://localhost:8080/",
          "height": 89
        },
        "outputId": "0b761cb7-3a88-4af8-ef20-fc5e05284387"
      },
      "cell_type": "code",
      "source": [
        "model.compile(loss='categorical_crossentropy', optimizer='adam', metrics=['accuracy'])"
      ],
      "execution_count": 11,
      "outputs": [
        {
          "output_type": "stream",
          "text": [
            "WARNING:tensorflow:From /usr/local/lib/python3.6/dist-packages/tensorflow/python/framework/op_def_library.py:263: colocate_with (from tensorflow.python.framework.ops) is deprecated and will be removed in a future version.\n",
            "Instructions for updating:\n",
            "Colocations handled automatically by placer.\n"
          ],
          "name": "stdout"
        }
      ]
    },
    {
      "metadata": {
        "id": "0jAMOimYGUZ0",
        "colab_type": "code",
        "colab": {
          "base_uri": "https://localhost:8080/",
          "height": 1823
        },
        "outputId": "d2ad047c-968d-4f54-ea00-17ede24671e6"
      },
      "cell_type": "code",
      "source": [
        "model.fit(X_train, y_train, batch_size=500, nb_epoch=50, verbose=1)"
      ],
      "execution_count": 16,
      "outputs": [
        {
          "output_type": "stream",
          "text": [
            "Epoch 1/50\n",
            "17500/60000 [=======>......................] - ETA: 0s - loss: 0.2112 - acc: 0.9427"
          ],
          "name": "stdout"
        },
        {
          "output_type": "stream",
          "text": [
            "/usr/local/lib/python3.6/dist-packages/ipykernel_launcher.py:1: UserWarning: The `nb_epoch` argument in `fit` has been renamed `epochs`.\n",
            "  \"\"\"Entry point for launching an IPython kernel.\n"
          ],
          "name": "stderr"
        },
        {
          "output_type": "stream",
          "text": [
            "60000/60000 [==============================] - 1s 9us/step - loss: 0.2134 - acc: 0.9409\n",
            "Epoch 2/50\n",
            "60000/60000 [==============================] - 1s 9us/step - loss: 0.2135 - acc: 0.9408\n",
            "Epoch 3/50\n",
            "60000/60000 [==============================] - 1s 9us/step - loss: 0.2136 - acc: 0.9409\n",
            "Epoch 4/50\n",
            "60000/60000 [==============================] - 1s 9us/step - loss: 0.2136 - acc: 0.9410\n",
            "Epoch 5/50\n",
            "60000/60000 [==============================] - 1s 9us/step - loss: 0.2136 - acc: 0.9410\n",
            "Epoch 6/50\n",
            "60000/60000 [==============================] - 1s 10us/step - loss: 0.2137 - acc: 0.9408\n",
            "Epoch 7/50\n",
            "60000/60000 [==============================] - 1s 10us/step - loss: 0.2137 - acc: 0.9408\n",
            "Epoch 8/50\n",
            "60000/60000 [==============================] - 1s 10us/step - loss: 0.2135 - acc: 0.9408\n",
            "Epoch 9/50\n",
            "60000/60000 [==============================] - 1s 9us/step - loss: 0.2136 - acc: 0.9411\n",
            "Epoch 10/50\n",
            "60000/60000 [==============================] - 1s 10us/step - loss: 0.2135 - acc: 0.9412\n",
            "Epoch 11/50\n",
            "60000/60000 [==============================] - 1s 10us/step - loss: 0.2136 - acc: 0.9409\n",
            "Epoch 12/50\n",
            "60000/60000 [==============================] - 1s 10us/step - loss: 0.2137 - acc: 0.9408\n",
            "Epoch 13/50\n",
            "60000/60000 [==============================] - 1s 10us/step - loss: 0.2136 - acc: 0.9410\n",
            "Epoch 14/50\n",
            "60000/60000 [==============================] - 1s 10us/step - loss: 0.2136 - acc: 0.9413\n",
            "Epoch 15/50\n",
            "60000/60000 [==============================] - 1s 10us/step - loss: 0.2136 - acc: 0.9409\n",
            "Epoch 16/50\n",
            "60000/60000 [==============================] - 1s 10us/step - loss: 0.2136 - acc: 0.9409\n",
            "Epoch 17/50\n",
            "60000/60000 [==============================] - 1s 10us/step - loss: 0.2136 - acc: 0.9412\n",
            "Epoch 18/50\n",
            "60000/60000 [==============================] - 1s 10us/step - loss: 0.2139 - acc: 0.9408\n",
            "Epoch 19/50\n",
            "60000/60000 [==============================] - 1s 10us/step - loss: 0.2137 - acc: 0.9408\n",
            "Epoch 20/50\n",
            "60000/60000 [==============================] - 1s 10us/step - loss: 0.2137 - acc: 0.9411\n",
            "Epoch 21/50\n",
            "60000/60000 [==============================] - 1s 10us/step - loss: 0.2134 - acc: 0.9409\n",
            "Epoch 22/50\n",
            "60000/60000 [==============================] - 1s 10us/step - loss: 0.2134 - acc: 0.9409\n",
            "Epoch 23/50\n",
            "60000/60000 [==============================] - 1s 10us/step - loss: 0.2134 - acc: 0.9409\n",
            "Epoch 24/50\n",
            "60000/60000 [==============================] - 1s 10us/step - loss: 0.2135 - acc: 0.9406\n",
            "Epoch 25/50\n",
            "60000/60000 [==============================] - 1s 10us/step - loss: 0.2137 - acc: 0.9411\n",
            "Epoch 26/50\n",
            "60000/60000 [==============================] - 1s 10us/step - loss: 0.2135 - acc: 0.9412\n",
            "Epoch 27/50\n",
            "60000/60000 [==============================] - 1s 10us/step - loss: 0.2135 - acc: 0.9414\n",
            "Epoch 28/50\n",
            "60000/60000 [==============================] - 1s 10us/step - loss: 0.2135 - acc: 0.9409\n",
            "Epoch 29/50\n",
            "60000/60000 [==============================] - 1s 10us/step - loss: 0.2135 - acc: 0.9412\n",
            "Epoch 30/50\n",
            "60000/60000 [==============================] - 1s 9us/step - loss: 0.2133 - acc: 0.9408\n",
            "Epoch 31/50\n",
            "60000/60000 [==============================] - 1s 10us/step - loss: 0.2134 - acc: 0.9409\n",
            "Epoch 32/50\n",
            "60000/60000 [==============================] - 1s 10us/step - loss: 0.2134 - acc: 0.9409\n",
            "Epoch 33/50\n",
            "60000/60000 [==============================] - 1s 10us/step - loss: 0.2134 - acc: 0.9407\n",
            "Epoch 34/50\n",
            "60000/60000 [==============================] - 1s 10us/step - loss: 0.2134 - acc: 0.9407\n",
            "Epoch 35/50\n",
            "60000/60000 [==============================] - 1s 10us/step - loss: 0.2134 - acc: 0.9412\n",
            "Epoch 36/50\n",
            "60000/60000 [==============================] - 1s 10us/step - loss: 0.2136 - acc: 0.9408\n",
            "Epoch 37/50\n",
            "60000/60000 [==============================] - 1s 10us/step - loss: 0.2131 - acc: 0.9408\n",
            "Epoch 38/50\n",
            "60000/60000 [==============================] - 1s 10us/step - loss: 0.2133 - acc: 0.9414\n",
            "Epoch 39/50\n",
            "60000/60000 [==============================] - 1s 10us/step - loss: 0.2133 - acc: 0.9407\n",
            "Epoch 40/50\n",
            "60000/60000 [==============================] - 1s 10us/step - loss: 0.2133 - acc: 0.9411\n",
            "Epoch 41/50\n",
            "60000/60000 [==============================] - 1s 10us/step - loss: 0.2130 - acc: 0.9413\n",
            "Epoch 42/50\n",
            "60000/60000 [==============================] - 1s 10us/step - loss: 0.2129 - acc: 0.9412\n",
            "Epoch 43/50\n",
            "60000/60000 [==============================] - 1s 10us/step - loss: 0.2130 - acc: 0.9411\n",
            "Epoch 44/50\n",
            "60000/60000 [==============================] - 1s 10us/step - loss: 0.2129 - acc: 0.9408\n",
            "Epoch 45/50\n",
            "60000/60000 [==============================] - 1s 10us/step - loss: 0.2130 - acc: 0.9411\n",
            "Epoch 46/50\n",
            "60000/60000 [==============================] - 1s 10us/step - loss: 0.2130 - acc: 0.9414\n",
            "Epoch 47/50\n",
            "60000/60000 [==============================] - 1s 10us/step - loss: 0.2129 - acc: 0.9410\n",
            "Epoch 48/50\n",
            "60000/60000 [==============================] - 1s 10us/step - loss: 0.2129 - acc: 0.9414\n",
            "Epoch 49/50\n",
            "60000/60000 [==============================] - 1s 10us/step - loss: 0.2129 - acc: 0.9412\n",
            "Epoch 50/50\n",
            "60000/60000 [==============================] - 1s 10us/step - loss: 0.2128 - acc: 0.9408\n"
          ],
          "name": "stdout"
        },
        {
          "output_type": "execute_result",
          "data": {
            "text/plain": [
              "<keras.callbacks.History at 0x7f2bc6576438>"
            ]
          },
          "metadata": {
            "tags": []
          },
          "execution_count": 16
        }
      ]
    },
    {
      "metadata": {
        "id": "WEMIsmrv_hfg",
        "colab_type": "code",
        "colab": {
          "base_uri": "https://localhost:8080/",
          "height": 35
        },
        "outputId": "639d9d92-a077-443e-99ac-1999f1b753e9"
      },
      "cell_type": "code",
      "source": [
        "score = model.evaluate(X_test, y_test, verbose=0)\n",
        "print('Test Accuracy of the given model is :',score[1])"
      ],
      "execution_count": 17,
      "outputs": [
        {
          "output_type": "stream",
          "text": [
            "Test Accuracy of the given model is : 0.9268\n"
          ],
          "name": "stdout"
        }
      ]
    },
    {
      "metadata": {
        "id": "oNGxZ4X2_hnu",
        "colab_type": "code",
        "colab": {}
      },
      "cell_type": "code",
      "source": [
        ""
      ],
      "execution_count": 0,
      "outputs": []
    },
    {
      "metadata": {
        "id": "fGZX6CUW_hvg",
        "colab_type": "code",
        "colab": {}
      },
      "cell_type": "code",
      "source": [
        ""
      ],
      "execution_count": 0,
      "outputs": []
    }
  ]
}