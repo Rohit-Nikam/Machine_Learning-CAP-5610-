{
  "nbformat": 4,
  "nbformat_minor": 0,
  "metadata": {
    "colab": {
      "name": "program2.ipynb",
      "version": "0.3.2",
      "provenance": [],
      "include_colab_link": true
    },
    "kernelspec": {
      "name": "python3",
      "display_name": "Python 3"
    },
    "accelerator": "GPU"
  },
  "cells": [
    {
      "cell_type": "markdown",
      "metadata": {
        "id": "view-in-github",
        "colab_type": "text"
      },
      "source": [
        "<a href=\"https://colab.research.google.com/github/Rohit-Nikam/Machine_Learning-CAP-5610-/blob/master/program2.ipynb\" target=\"_parent\"><img src=\"https://colab.research.google.com/assets/colab-badge.svg\" alt=\"Open In Colab\"/></a>"
      ]
    },
    {
      "metadata": {
        "id": "HaUsS17r-Yvq",
        "colab_type": "code",
        "colab": {
          "base_uri": "https://localhost:8080/",
          "height": 35
        },
        "outputId": "6f0b8a59-dd5a-4602-8d68-a228c4445d53"
      },
      "cell_type": "code",
      "source": [
        "import numpy as np\n",
        "import pandas as pd\n",
        "import matplotlib\n",
        "import matplotlib.pyplot as plt\n",
        "import keras\n",
        "from keras.datasets import mnist\n",
        "from sklearn.model_selection import StratifiedShuffleSplit"
      ],
      "execution_count": 1,
      "outputs": [
        {
          "output_type": "stream",
          "text": [
            "Using TensorFlow backend.\n"
          ],
          "name": "stderr"
        }
      ]
    },
    {
      "metadata": {
        "id": "GwtHhb58-kdk",
        "colab_type": "code",
        "colab": {
          "base_uri": "https://localhost:8080/",
          "height": 52
        },
        "outputId": "87b336ac-302a-4adb-f8fd-1eb106af96d1"
      },
      "cell_type": "code",
      "source": [
        "(X_train, y_train), (X_test, y_test) = mnist.load_data()"
      ],
      "execution_count": 2,
      "outputs": [
        {
          "output_type": "stream",
          "text": [
            "Downloading data from https://s3.amazonaws.com/img-datasets/mnist.npz\n",
            "11493376/11490434 [==============================] - 1s 0us/step\n"
          ],
          "name": "stdout"
        }
      ]
    },
    {
      "metadata": {
        "id": "XpN0KYvo-kPq",
        "colab_type": "code",
        "colab": {}
      },
      "cell_type": "code",
      "source": [
        "X_train = (X_train.reshape(X_train.shape[0],X_train.shape[1]*X_train.shape[2]))\n",
        "X_test = (X_test.reshape(X_test.shape[0],X_test.shape[1]*X_test.shape[2]))"
      ],
      "execution_count": 0,
      "outputs": []
    },
    {
      "metadata": {
        "id": "FM2fesHp-kt4",
        "colab_type": "code",
        "colab": {}
      },
      "cell_type": "code",
      "source": [
        "test_target = y_test\n",
        "y_train = (keras.utils.to_categorical(y_train,10))\n",
        "y_test = (keras.utils.to_categorical(y_test,10))"
      ],
      "execution_count": 0,
      "outputs": []
    },
    {
      "metadata": {
        "id": "IKCBq5T4-krm",
        "colab_type": "code",
        "colab": {
          "base_uri": "https://localhost:8080/",
          "height": 87
        },
        "outputId": "15d2b965-cac5-4ed1-b31e-d71f7f97348e"
      },
      "cell_type": "code",
      "source": [
        "print('Shape of training set predictors :',X_train.shape)\n",
        "print('Shape of training set target :',y_train.shape)\n",
        "print('Shape of testing set predictors :',X_test.shape)\n",
        "print('Shape of testing set target :',y_test.shape)"
      ],
      "execution_count": 5,
      "outputs": [
        {
          "output_type": "stream",
          "text": [
            "Shape of training set predictors : (60000, 784)\n",
            "Shape of training set target : (60000, 10)\n",
            "Shape of testing set predictors : (10000, 784)\n",
            "Shape of testing set target : (10000, 10)\n"
          ],
          "name": "stdout"
        }
      ]
    },
    {
      "metadata": {
        "id": "L0nUwEhy-kwq",
        "colab_type": "code",
        "colab": {}
      },
      "cell_type": "code",
      "source": [
        "X_train = X_train.astype('float32')\n",
        "X_test = X_test.astype('float32')\n",
        "X_train /= 255\n",
        "X_test /= 255"
      ],
      "execution_count": 0,
      "outputs": []
    },
    {
      "metadata": {
        "id": "0mW6c08k_sNU",
        "colab_type": "code",
        "colab": {}
      },
      "cell_type": "code",
      "source": [
        "### theta and bias initilization\n",
        "theta = np.random.randn(10,784)*0.01\n",
        "bias = np.random.randn(10,1)\n"
      ],
      "execution_count": 0,
      "outputs": []
    },
    {
      "metadata": {
        "id": "Vxy_Ppl4_sFJ",
        "colab_type": "code",
        "colab": {
          "base_uri": "https://localhost:8080/",
          "height": 35
        },
        "outputId": "c2888f83-823b-4e64-f9e4-60bdc6d3f7a8"
      },
      "cell_type": "code",
      "source": [
        "## we are training a number 9 classifier\n",
        "epochs = 50\n",
        "m = len(X_train)\n",
        "learning_rate = 0.005\n",
        "batch_size = 200\n",
        "result_loss = []\n",
        "\n",
        "\n",
        "def binary_loss(yi,sigma):\n",
        "    return np.sum(np.multiply(np.transpose(yi),np.log(sigma))+np.multiply(np.transpose(yi),np.log(sigma)),axis=1,keepdims=True)/len(yi)\n",
        "  \n",
        "  \n",
        "def sigmoid(t):\n",
        "    return 1/(1+np.exp(-t))\n",
        "\n",
        "def loss_function(theta,bias,xi,yi):   #here xi is transposed\n",
        "    #print('here')\n",
        "    z = np.dot(theta,np.transpose(xi)) + bias\n",
        "    sigma = sigmoid(z)\n",
        "    #print('shape :', z.shape,sigma.shape)\n",
        "    #diff_sigma = sigmoid(sigma)   #\n",
        "    penalty = sigma - np.transpose(yi)\n",
        "    diff_loss = np.dot(penalty,xi)     #\n",
        "    diff_bias = np.sum(penalty)\n",
        "    loss_training = binary_loss(yi,sigma)\n",
        "    return loss_training,diff_loss,diff_bias         #\n",
        "    \n",
        "    \n",
        "for epoch in range(epochs):\n",
        "    shuffled_indices = np.random.permutation(m)       \n",
        "    X_train = X_train[shuffled_indices]\n",
        "    y_train = y_train[shuffled_indices]\n",
        "    loss_list = []\n",
        "    for i in range(0,m,batch_size):\n",
        "        random_index = np.random.randint(m-(batch_size+2))\n",
        "        xi = X_train[random_index:random_index+batch_size]\n",
        "        yi = y_train[random_index:random_index+batch_size]\n",
        "        loss_training,diff_loss,diff_bias = loss_function(theta,bias,xi,yi)\n",
        "        theta = theta - learning_rate * diff_loss\n",
        "        bias = bias - learning_rate * diff_bias\n",
        "        loss_list.append(loss_training)\n",
        "    result_loss.append(np.array((loss_list)).mean())\n",
        "theta_min = theta \n",
        "bias_min = bias\n",
        "print('success')"
      ],
      "execution_count": 8,
      "outputs": [
        {
          "output_type": "stream",
          "text": [
            "success\n"
          ],
          "name": "stdout"
        }
      ]
    },
    {
      "metadata": {
        "id": "Vd0nYzuKXCc6",
        "colab_type": "code",
        "colab": {}
      },
      "cell_type": "code",
      "source": [
        "### testing our theta optimum on test data\n",
        "z = np.dot(theta_min,np.transpose(X_test)) + bias_min\n",
        "sigma = sigmoid(z)\n",
        "test_output = np.transpose(sigma)\n"
      ],
      "execution_count": 0,
      "outputs": []
    },
    {
      "metadata": {
        "id": "rCQyzsJeiswv",
        "colab_type": "text"
      },
      "cell_type": "markdown",
      "source": [
        "# **The Accuracy of the model is :**"
      ]
    },
    {
      "metadata": {
        "id": "7tVVDL4zXCZk",
        "colab_type": "code",
        "colab": {
          "base_uri": "https://localhost:8080/",
          "height": 35
        },
        "outputId": "b54e39bc-1e8e-42c2-e828-ea4a898da9f7"
      },
      "cell_type": "code",
      "source": [
        "reverse_encoding = [np.argmax(test_output[i]) for i in range(len(test_output))]\n",
        "checking_accuracy = [1 for i in range(len(y_test)) if reverse_encoding[i] == test_target[i]]\n",
        "acc = np.sum(checking_accuracy)/100\n",
        "print(\"accuracy:\",acc)"
      ],
      "execution_count": 10,
      "outputs": [
        {
          "output_type": "stream",
          "text": [
            "accuracy: 91.36\n"
          ],
          "name": "stdout"
        }
      ]
    },
    {
      "metadata": {
        "id": "wNxAle9Dgrie",
        "colab_type": "text"
      },
      "cell_type": "markdown",
      "source": [
        "# **As the epoch increases the loss decreases**"
      ]
    },
    {
      "metadata": {
        "id": "n49Pyb_XcQYM",
        "colab_type": "code",
        "colab": {
          "base_uri": "https://localhost:8080/",
          "height": 361
        },
        "outputId": "c21681e6-083a-4b84-ad27-d6873cfb9d6e"
      },
      "cell_type": "code",
      "source": [
        "accuracy_plot = plt.plot(range(1,epochs +1),result_loss)\n",
        "plt.xlabel('Epoch-->')\n",
        "plt.ylabel('Loss -->')\n",
        "plt.show(accuracy_plot)"
      ],
      "execution_count": 11,
      "outputs": [
        {
          "output_type": "display_data",
          "data": {
            "image/png": "[encoded data removed]",
            "text/plain": [
              "<Figure size 576x396 with 1 Axes>"
            ]
          },
          "metadata": {
            "tags": []
          }
        }
      ]
    },
    {
      "metadata": {
        "id": "upwJl0c9ceTK",
        "colab_type": "code",
        "colab": {}
      },
      "cell_type": "code",
      "source": [
        ""
      ],
      "execution_count": 0,
      "outputs": []
    }
  ]
}